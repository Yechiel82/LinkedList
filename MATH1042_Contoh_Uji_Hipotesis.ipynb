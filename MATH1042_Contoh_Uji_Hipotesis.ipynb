{
  "cells": [
    {
      "cell_type": "markdown",
      "metadata": {
        "id": "view-in-github",
        "colab_type": "text"
      },
      "source": [
        "<a href=\"https://colab.research.google.com/github/Yechiel82/LinkedList/blob/main/MATH1042_Contoh_Uji_Hipotesis.ipynb\" target=\"_parent\"><img src=\"https://colab.research.google.com/assets/colab-badge.svg\" alt=\"Open In Colab\"/></a>"
      ]
    },
    {
      "cell_type": "markdown",
      "id": "4bc6a088",
      "metadata": {
        "id": "4bc6a088"
      },
      "source": [
        "# MATH1042 Contoh Prosedur Uji Hipotesis\n",
        "\n",
        "**Contoh Masalah:**\n",
        "\n",
        "Suppose that an engineer is interested in testing the bias in a pH meter. Data are collected on a neutral substance (pH = 7.0). A sample of the measurements were taken with the data as follows: \n",
        "\n",
        "\n",
        "| No |   1  |   2  |   3  |   4  |   5  |   6  |   7  |   8  |   9  |  10  |\n",
        "|:--:|:----:|:----:|:----:|:----:|:----:|:----:|:----:|:----:|:----:|:----:|\n",
        "| pH | 7.07 | 7.00 | 7.10 | 6.97 | 7.00 | 7.03 | 7.01 | 7.01 | 6.98 | 7.08 |\n",
        "\n",
        "\n",
        "Test whether the sample data suggests that the entire subtance has > pH 7 using significance level of 5%."
      ]
    },
    {
      "cell_type": "code",
      "execution_count": null,
      "id": "542d39e8",
      "metadata": {
        "id": "542d39e8"
      },
      "outputs": [],
      "source": [
        "import numpy as np\n",
        "import pandas as pd\n",
        "import scipy.stats\n",
        "import statistics"
      ]
    },
    {
      "cell_type": "code",
      "execution_count": null,
      "id": "1b4da052",
      "metadata": {
        "colab": {
          "base_uri": "https://localhost:8080/"
        },
        "id": "1b4da052",
        "outputId": "9f8365e3-16f8-4e0b-8b88-cef7056e880c"
      },
      "outputs": [
        {
          "output_type": "execute_result",
          "data": {
            "text/plain": [
              "array([7.07, 7.  , 7.1 , 6.97, 7.  , 7.03, 7.01, 7.01, 6.98, 7.08])"
            ]
          },
          "metadata": {},
          "execution_count": 2
        }
      ],
      "source": [
        "# simpan data sampel dalam suatu list\n",
        "data = np.array([7.07, 7.00, 7.10, 6.97, 7.00, 7.03, 7.01, 7.01, 6.98, 7.08])\n",
        "data"
      ]
    },
    {
      "cell_type": "code",
      "execution_count": null,
      "id": "d1ca174c",
      "metadata": {
        "colab": {
          "base_uri": "https://localhost:8080/"
        },
        "id": "d1ca174c",
        "outputId": "260b3ded-fd8e-4010-d930-d4afdc23e9a6"
      },
      "outputs": [
        {
          "output_type": "stream",
          "name": "stdout",
          "text": [
            "Count\t:     10\n",
            "Average\t:  7.025\n",
            "Stdev\t:  0.044\n"
          ]
        }
      ],
      "source": [
        "# deskripsikan statistik dari sampel\n",
        "print(f\"Count\\t: {len(data):6.0f}\")\n",
        "print(f\"Average\\t: {statistics.mean(data):6.3f}\")\n",
        "print(f\"Stdev\\t: {statistics.stdev(data):6.3f}\")"
      ]
    },
    {
      "cell_type": "markdown",
      "id": "b539aaff",
      "metadata": {
        "id": "b539aaff"
      },
      "source": [
        "## 1 Formulasikan Hipotesis\n",
        "\n",
        "\n",
        "Misalkan $X$ menyatakan variabel acak dari nilai pH hasil tes. Untuk menguji apakah pernyataan \"$\\mu_X > 7$\" sahih secara statistika, maka tuliskan pernyataan tersebut sebagai **hipotesis tandingan ($H_1$)**, yaitu\n",
        "\n",
        "$$\n",
        "\\begin{align*}\n",
        "H_0&: \\mu_X \\le 7\\\\\n",
        "H_1&: \\mu_X > 7 \n",
        "\\end{align*}\n",
        "$$"
      ]
    },
    {
      "cell_type": "markdown",
      "id": "18d67589",
      "metadata": {
        "id": "18d67589"
      },
      "source": [
        "## 2 Pilih Tingkat Signifikansi"
      ]
    },
    {
      "cell_type": "code",
      "execution_count": null,
      "id": "b817bd48",
      "metadata": {
        "id": "b817bd48"
      },
      "outputs": [],
      "source": [
        "# variabel alpha menyatakan tingkat signifikansi\n",
        "# artinya 1 - alpha adalah tingkat keyakinan\n",
        "alpha = 0.05"
      ]
    },
    {
      "cell_type": "markdown",
      "id": "fd28a2e8",
      "metadata": {
        "id": "fd28a2e8"
      },
      "source": [
        "## 3 Pilih Statistik yang sesuai\n",
        "\n",
        "Berikut hal yang menentukan pemilihan statistik:\n",
        "* Yang hendak diuji dalam hipotesis adalah **rata-rata** populasi.\n",
        "* Terdapat **satu** buah populasi yang terlibat dalam uji hipotesis.\n",
        "* Jenis uji hipotesis yang dilakukan adalah **satu sisi**.\n",
        "* Terdapat 10 data sampel, jadi hanya ada **sedikit** ukuran data sampelnya.\n",
        "\n",
        "Berdasarkan poin-poin pertimbangan di atas, maka jenis statistik yang dipilih adalah **t-student untuk 1 populasi**."
      ]
    },
    {
      "cell_type": "markdown",
      "id": "bf484f64",
      "metadata": {
        "id": "bf484f64"
      },
      "source": [
        "## 4 Hitung nilai P-value dari statistik"
      ]
    },
    {
      "cell_type": "code",
      "execution_count": null,
      "id": "0a8dfe49",
      "metadata": {
        "colab": {
          "base_uri": "https://localhost:8080/"
        },
        "id": "0a8dfe49",
        "outputId": "f69854f9-03ae-4317-c680-9ac7987bd412"
      },
      "outputs": [
        {
          "output_type": "stream",
          "name": "stdout",
          "text": [
            "Statistic\t:  1.795\n",
            "P-Value  \t:  0.053\n"
          ]
        }
      ],
      "source": [
        "# referensi untuk t-student test for 1 populastion: \n",
        "# https://docs.scipy.org/doc/scipy/reference/generated/scipy.stats.ttest_1samp.html\n",
        "\n",
        "# popmean adalah nilai tebakan dalam pernyataan hipotesis \n",
        "# Contoh: H_0: mu_x >= popmean\n",
        "popmean = 7\n",
        "\n",
        "# alternative_type adalah sebuah string untuk menandakan jenis hipotesis tandingan (H_1) yang diharapkan\n",
        "# nilai string yang dapat dipilih:\n",
        "#     - 'two-sided': artinya H_1 memiliki format mu_x != popmean;\n",
        "#     - 'less': artinya H_1 memiliki format mu_x < popmean;\n",
        "#     - 'greater': artinya H_1 memiliki format mu_x > popmean.\n",
        "alternative_type = 'greater'\n",
        "\n",
        "# method akan memberikan 2 return value, yaitu nilai statistic t-student dan nilai p-valuenya\n",
        "statistic , pvalue = scipy.stats.ttest_1samp(data, popmean, alternative=alternative_type)\n",
        "print(f\"Statistic\\t: {statistic:6.3f}\")\n",
        "print(f\"P-Value  \\t: {pvalue:6.3f}\")"
      ]
    },
    {
      "cell_type": "markdown",
      "id": "e7c63570",
      "metadata": {
        "id": "e7c63570"
      },
      "source": [
        "## 5 Buat Kesimpulan berdasarkan P-value"
      ]
    },
    {
      "cell_type": "code",
      "execution_count": null,
      "id": "0321724b",
      "metadata": {
        "colab": {
          "base_uri": "https://localhost:8080/"
        },
        "id": "0321724b",
        "outputId": "86f300e3-45e8-4740-b500-978d09bc337d"
      },
      "outputs": [
        {
          "output_type": "stream",
          "name": "stdout",
          "text": [
            "Hypothesis Testing Result:\n",
            "-----------------------------\n",
            "\tWith confidence level  95%, it failed to reject the Null Hypothesis.\n"
          ]
        }
      ],
      "source": [
        "def conclude_test(pvalue, alpha):\n",
        "    print(\"Hypothesis Testing Result:\")\n",
        "    print(\"-----------------------------\")\n",
        "    if (pvalue > alpha):\n",
        "        print(f\"\\tWith confidence level {(1-alpha)*100:3.0f}%, it failed to reject the Null Hypothesis.\")\n",
        "    else:\n",
        "        print(f\"\\tWith confidence level {(1-alpha)*100:3.0f}%, it is statistically valid to reject the Null Hypothesis.\")\n",
        "        \n",
        "conclude_test(pvalue, alpha)"
      ]
    },
    {
      "cell_type": "markdown",
      "id": "93a8cf61",
      "metadata": {
        "id": "93a8cf61"
      },
      "source": [
        "## 6 Terjemahkan ke bahasa sehari-hari\n",
        "\n",
        "**Kesimpulan:**\n",
        "\n",
        "Dengan tingkat keyakinan 95%, uji hipotesis belum cukup bukti untuk menyimpulkan bahwa pH larutan ada di atas nilai $7.00$."
      ]
    }
  ],
  "metadata": {
    "kernelspec": {
      "display_name": "Python 3 (ipykernel)",
      "language": "python",
      "name": "python3"
    },
    "language_info": {
      "codemirror_mode": {
        "name": "ipython",
        "version": 3
      },
      "file_extension": ".py",
      "mimetype": "text/x-python",
      "name": "python",
      "nbconvert_exporter": "python",
      "pygments_lexer": "ipython3",
      "version": "3.9.12"
    },
    "colab": {
      "provenance": [],
      "toc_visible": true,
      "include_colab_link": true
    }
  },
  "nbformat": 4,
  "nbformat_minor": 5
}