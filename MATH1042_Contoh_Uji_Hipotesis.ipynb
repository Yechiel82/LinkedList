{
  "cells": [
    {
      "cell_type": "markdown",
      "metadata": {
        "id": "view-in-github",
        "colab_type": "text"
      },
      "source": [
        "<a href=\"https://colab.research.google.com/github/Yechiel82/LinkedList/blob/main/MATH1042_Contoh_Uji_Hipotesis.ipynb\" target=\"_parent\"><img src=\"https://colab.research.google.com/assets/colab-badge.svg\" alt=\"Open In Colab\"/></a>"
      ]
    },
    {
      "cell_type": "markdown",
      "id": "4bc6a088",
      "metadata": {
        "id": "4bc6a088"
      },
      "source": [
        "# MATH1042 Contoh Prosedur Uji Hipotesis\n",
        "\n",
        "**Contoh Masalah:**\n",
        "\n",
        "Suppose that an engineer is interested in testing the bias in a pH meter. Data are collected on a neutral substance (pH = 7.0). A sample of the measurements were taken with the data as follows: \n",
        "\n",
        "\n",
        "| No |   1  |   2  |   3  |   4  |   5  |   6  |   7  |   8  |   9  |  10  |\n",
        "|:--:|:----:|:----:|:----:|:----:|:----:|:----:|:----:|:----:|:----:|:----:|\n",
        "| pH | 7.07 | 7.00 | 7.10 | 6.97 | 7.00 | 7.03 | 7.01 | 7.01 | 6.98 | 7.08 |\n",
        "\n",
        "\n",
        "Test whether the sample data suggests that the entire subtance has > pH 7 using significance level of 5%."
      ]
    },
    {
      "cell_type": "code",
      "execution_count": 64,
      "id": "542d39e8",
      "metadata": {
        "id": "542d39e8"
      },
      "outputs": [],
      "source": [
        "import numpy as np\n",
        "import pandas as pd\n",
        "import scipy.stats\n",
        "import statistics"
      ]
    },
    {
      "cell_type": "code",
      "execution_count": 65,
      "id": "1b4da052",
      "metadata": {
        "colab": {
          "base_uri": "https://localhost:8080/"
        },
        "id": "1b4da052",
        "outputId": "f5da75d7-4d84-497c-d76f-69ea41be6b08"
      },
      "outputs": [
        {
          "output_type": "execute_result",
          "data": {
            "text/plain": [
              "array([1913.399151, 2021.301425, 2564.232126, 2712.720157, 1824.782011,\n",
              "       2983.176118, 2036.601405, 1042.410856, 1620.53153 , 1926.04722 ,\n",
              "       2138.048242, 2038.652675, 3316.558515, 2694.497414, 1516.994386,\n",
              "       3459.57705 , 1598.198891])"
            ]
          },
          "metadata": {},
          "execution_count": 65
        }
      ],
      "source": [
        "# simpan data sampel dalam suatu list\n",
        "# data = np.array([7.07, 7.00, 7.10, 6.97, 7.00, 7.03, 7.01, 7.01, 6.98, 7.08])\n",
        "data = np.array([1913.399151, 2021.301425, 2564.232126, 2712.720157, 1824.782011,2983.176118,2036.601405,1042.410856,1620.53153,1926.04722,2138.048242,2038.652675, 3316.558515, 2694.497414, 1516.994386, 3459.57705,  1598.198891])\n",
        "data"
      ]
    },
    {
      "cell_type": "code",
      "execution_count": 66,
      "id": "d1ca174c",
      "metadata": {
        "colab": {
          "base_uri": "https://localhost:8080/"
        },
        "id": "d1ca174c",
        "outputId": "735bf559-1bf5-4849-8ee4-aac7d9477e80"
      },
      "outputs": [
        {
          "output_type": "stream",
          "name": "stdout",
          "text": [
            "Count\t:     17\n",
            "Average\t: 2200.455\n",
            "Stdev\t: 660.379\n"
          ]
        }
      ],
      "source": [
        "# deskripsikan statistik dari sampel\n",
        "print(f\"Count\\t: {len(data):6.0f}\")\n",
        "print(f\"Average\\t: {statistics.mean(data):6.3f}\")\n",
        "print(f\"Stdev\\t: {statistics.stdev(data):6.3f}\")"
      ]
    },
    {
      "cell_type": "markdown",
      "id": "b539aaff",
      "metadata": {
        "id": "b539aaff"
      },
      "source": [
        "## 1 Formulasikan Hipotesis\n",
        "\n",
        "\n",
        "Misalkan $X$ menyatakan variabel acak dari nilai pH hasil tes. Untuk menguji apakah pernyataan \"$\\mu_X > 7$\" sahih secara statistika, maka tuliskan pernyataan tersebut sebagai **hipotesis tandingan ($H_1$)**, yaitu\n",
        "\n",
        "$$\n",
        "\\begin{align*}\n",
        "H_0&: \\mu_X \\le 7\\\\\n",
        "H_1&: \\mu_X > 7 \n",
        "\\end{align*}\n",
        "$$"
      ]
    },
    {
      "cell_type": "markdown",
      "id": "18d67589",
      "metadata": {
        "id": "18d67589"
      },
      "source": [
        "## 2 Pilih Tingkat Signifikansi"
      ]
    },
    {
      "cell_type": "code",
      "execution_count": 67,
      "id": "b817bd48",
      "metadata": {
        "id": "b817bd48"
      },
      "outputs": [],
      "source": [
        "# variabel alpha menyatakan tingkat signifikansi\n",
        "# artinya 1 - alpha adalah tingkat keyakinan\n",
        "alpha = 0.1"
      ]
    },
    {
      "cell_type": "markdown",
      "id": "fd28a2e8",
      "metadata": {
        "id": "fd28a2e8"
      },
      "source": [
        "## 3 Pilih Statistik yang sesuai\n",
        "\n",
        "Berikut hal yang menentukan pemilihan statistik:\n",
        "* Yang hendak diuji dalam hipotesis adalah **rata-rata** populasi.\n",
        "* Terdapat **satu** buah populasi yang terlibat dalam uji hipotesis.\n",
        "* Jenis uji hipotesis yang dilakukan adalah **satu sisi**.\n",
        "* Terdapat 10 data sampel, jadi hanya ada **sedikit** ukuran data sampelnya.\n",
        "\n",
        "Berdasarkan poin-poin pertimbangan di atas, maka jenis statistik yang dipilih adalah **t-student untuk 1 populasi**."
      ]
    },
    {
      "cell_type": "markdown",
      "id": "bf484f64",
      "metadata": {
        "id": "bf484f64"
      },
      "source": [
        "## 4 Hitung nilai P-value dari statistik"
      ]
    },
    {
      "cell_type": "code",
      "execution_count": 68,
      "id": "0a8dfe49",
      "metadata": {
        "colab": {
          "base_uri": "https://localhost:8080/"
        },
        "id": "0a8dfe49",
        "outputId": "12acf920-bde2-4b67-d15a-f06b686e4bb3"
      },
      "outputs": [
        {
          "output_type": "stream",
          "name": "stdout",
          "text": [
            "Statistic\t:  1.108\n",
            "P-Value  \t:  0.142\n"
          ]
        }
      ],
      "source": [
        "# referensi untuk t-student test for 1 populastion: \n",
        "# https://docs.scipy.org/doc/scipy/reference/generated/scipy.stats.ttest_1samp.html\n",
        "\n",
        "# popmean adalah nilai tebakan dalam pernyataan hipotesis \n",
        "# Contoh: H_0: mu_x >= popmean\n",
        "popmean = 2023\n",
        "\n",
        "# alternative_type adalah sebuah string untuk menandakan jenis hipotesis tandingan (H_1) yang diharapkan\n",
        "# nilai string yang dapat dipilih:\n",
        "#     - 'two-sided': artinya H_1 memiliki format mu_x != popmean;\n",
        "#     - 'less': artinya H_1 memiliki format mu_x < popmean;\n",
        "#     - 'greater': artinya H_1 memiliki format mu_x > popmean.\n",
        "alternative_type = 'greater'\n",
        "\n",
        "# method akan memberikan 2 return value, yaitu nilai statistic t-student dan nilai p-valuenya\n",
        "statistic , pvalue = scipy.stats.ttest_1samp(data, popmean, alternative=alternative_type)\n",
        "print(f\"Statistic\\t: {statistic:6.3f}\")\n",
        "print(f\"P-Value  \\t: {pvalue:6.3f}\")"
      ]
    },
    {
      "cell_type": "markdown",
      "id": "e7c63570",
      "metadata": {
        "id": "e7c63570"
      },
      "source": [
        "## 5 Buat Kesimpulan berdasarkan P-value"
      ]
    },
    {
      "cell_type": "code",
      "execution_count": 69,
      "id": "0321724b",
      "metadata": {
        "colab": {
          "base_uri": "https://localhost:8080/"
        },
        "id": "0321724b",
        "outputId": "ff361f72-618f-4bc2-dd3a-156498c07594"
      },
      "outputs": [
        {
          "output_type": "stream",
          "name": "stdout",
          "text": [
            "Hypothesis Testing Result:\n",
            "-----------------------------\n",
            "\tWith confidence level  90%, it failed to reject the Null Hypothesis.\n"
          ]
        }
      ],
      "source": [
        "def conclude_test(pvalue, alpha):\n",
        "    print(\"Hypothesis Testing Result:\")\n",
        "    print(\"-----------------------------\")\n",
        "    if (pvalue > alpha):\n",
        "        print(f\"\\tWith confidence level {(1-alpha)*100:3.0f}%, it failed to reject the Null Hypothesis.\")\n",
        "    else:\n",
        "        print(f\"\\tWith confidence level {(1-alpha)*100:3.0f}%, it is statistically valid to reject the Null Hypothesis.\")\n",
        "        \n",
        "conclude_test(pvalue, alpha)"
      ]
    },
    {
      "cell_type": "markdown",
      "id": "93a8cf61",
      "metadata": {
        "id": "93a8cf61"
      },
      "source": [
        "## 6 Terjemahkan ke bahasa sehari-hari\n",
        "\n",
        "**Kesimpulan:**\n",
        "\n",
        "Dengan tingkat keyakinan 95%, uji hipotesis belum cukup bukti untuk menyimpulkan bahwa pH larutan ada di atas nilai $7.00$."
      ]
    }
  ],
  "metadata": {
    "kernelspec": {
      "display_name": "Python 3 (ipykernel)",
      "language": "python",
      "name": "python3"
    },
    "language_info": {
      "codemirror_mode": {
        "name": "ipython",
        "version": 3
      },
      "file_extension": ".py",
      "mimetype": "text/x-python",
      "name": "python",
      "nbconvert_exporter": "python",
      "pygments_lexer": "ipython3",
      "version": "3.9.12"
    },
    "colab": {
      "provenance": [],
      "toc_visible": true,
      "include_colab_link": true
    }
  },
  "nbformat": 4,
  "nbformat_minor": 5
}